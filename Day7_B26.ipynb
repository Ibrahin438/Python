{
 "cells": [
  {
   "cell_type": "code",
   "execution_count": 3,
   "metadata": {},
   "outputs": [],
   "source": [
    "students = ['shabista','kiran','paul','reema','zain','keerthi','zainab','kernal']"
   ]
  },
  {
   "cell_type": "code",
   "execution_count": 4,
   "metadata": {},
   "outputs": [
    {
     "name": "stdout",
     "output_type": "stream",
     "text": [
      "['shabista', 'kiran', 'paul', 'reema', 'zain', 'keerthi', 'zainab', 'kernal']\n"
     ]
    }
   ],
   "source": [
    "print(students)"
   ]
  },
  {
   "cell_type": "code",
   "execution_count": 5,
   "metadata": {},
   "outputs": [],
   "source": [
    "# print this elements in the reversr order use .reverse()\n"
   ]
  },
  {
   "cell_type": "raw",
   "metadata": {},
   "source": []
  },
  {
   "cell_type": "code",
   "execution_count": 6,
   "metadata": {},
   "outputs": [
    {
     "name": "stdout",
     "output_type": "stream",
     "text": [
      "['shabista', 'kiran', 'paul', 'reema', 'zain', 'keerthi', 'zainab', 'kernal']\n"
     ]
    }
   ],
   "source": [
    "print(students)"
   ]
  },
  {
   "cell_type": "code",
   "execution_count": 7,
   "metadata": {},
   "outputs": [],
   "source": [
    "students.reverse()"
   ]
  },
  {
   "cell_type": "code",
   "execution_count": 8,
   "metadata": {},
   "outputs": [
    {
     "name": "stdout",
     "output_type": "stream",
     "text": [
      "['kernal', 'zainab', 'keerthi', 'zain', 'reema', 'paul', 'kiran', 'shabista']\n"
     ]
    }
   ],
   "source": [
    "print(students)"
   ]
  },
  {
   "cell_type": "code",
   "execution_count": 9,
   "metadata": {},
   "outputs": [],
   "source": [
    "students.sort()"
   ]
  },
  {
   "cell_type": "code",
   "execution_count": 10,
   "metadata": {},
   "outputs": [
    {
     "name": "stdout",
     "output_type": "stream",
     "text": [
      "['keerthi', 'kernal', 'kiran', 'paul', 'reema', 'shabista', 'zain', 'zainab']\n"
     ]
    }
   ],
   "source": [
    "print(students)"
   ]
  },
  {
   "cell_type": "code",
   "execution_count": 12,
   "metadata": {},
   "outputs": [],
   "source": [
    "#looping statements"
   ]
  },
  {
   "cell_type": "code",
   "execution_count": null,
   "metadata": {},
   "outputs": [],
   "source": [
    "# synatax\n",
    "\n",
    "for tempvar in manivar\n",
    "    print(tempavar)        # its like looping formula tempovariable"
   ]
  },
  {
   "cell_type": "code",
   "execution_count": 14,
   "metadata": {},
   "outputs": [
    {
     "name": "stdout",
     "output_type": "stream",
     "text": [
      "keerthi\n",
      "kernal\n",
      "kiran\n",
      "paul\n",
      "reema\n",
      "shabista\n",
      "zain\n",
      "zainab\n"
     ]
    }
   ],
   "source": [
    "for x in students:\n",
    "    print(x)"
   ]
  },
  {
   "cell_type": "code",
   "execution_count": 15,
   "metadata": {},
   "outputs": [
    {
     "name": "stdout",
     "output_type": "stream",
     "text": [
      "keerthi\n",
      "kernal\n",
      "kiran\n",
      "paul\n",
      "reema\n",
      "shabista\n",
      "zain\n",
      "zainab\n"
     ]
    }
   ],
   "source": [
    "for y in students:\n",
    "    print(y)"
   ]
  },
  {
   "cell_type": "code",
   "execution_count": 17,
   "metadata": {},
   "outputs": [],
   "source": [
    "#for appreciate to above students ?\n"
   ]
  },
  {
   "cell_type": "code",
   "execution_count": null,
   "metadata": {},
   "outputs": [],
   "source": [
    "# for particular students use placeholder"
   ]
  },
  {
   "cell_type": "code",
   "execution_count": 18,
   "metadata": {},
   "outputs": [
    {
     "name": "stdout",
     "output_type": "stream",
     "text": [
      "keep up the good work,Shabista\n"
     ]
    }
   ],
   "source": [
    "print(f\"keep up the good work,{students[5].title()}\")"
   ]
  },
  {
   "cell_type": "code",
   "execution_count": 19,
   "metadata": {},
   "outputs": [
    {
     "name": "stdout",
     "output_type": "stream",
     "text": [
      "keep up the good work,Zain\n"
     ]
    }
   ],
   "source": [
    "print(f\"keep up the good work,{students[6].title()}\")"
   ]
  },
  {
   "cell_type": "code",
   "execution_count": 22,
   "metadata": {},
   "outputs": [
    {
     "name": "stdout",
     "output_type": "stream",
     "text": [
      "keeep up the good work,KIRAN\n"
     ]
    }
   ],
   "source": [
    "print(f\"keeep up the good work,{students[2].upper()}\")"
   ]
  },
  {
   "cell_type": "code",
   "execution_count": 24,
   "metadata": {},
   "outputs": [
    {
     "name": "stdout",
     "output_type": "stream",
     "text": [
      "keeep up the good work,keerthi\n"
     ]
    }
   ],
   "source": [
    "print(f\"keeep up the good work,{students[0].lower()}\")"
   ]
  },
  {
   "cell_type": "code",
   "execution_count": 25,
   "metadata": {},
   "outputs": [],
   "source": [
    "#enhancment of the code"
   ]
  },
  {
   "cell_type": "code",
   "execution_count": 26,
   "metadata": {},
   "outputs": [],
   "source": [
    "# req: I am looking to received your practise file of today as well"
   ]
  },
  {
   "cell_type": "code",
   "execution_count": 27,
   "metadata": {},
   "outputs": [
    {
     "name": "stdout",
     "output_type": "stream",
     "text": [
      "['keerthi', 'kernal', 'kiran', 'paul', 'reema', 'shabista', 'zain', 'zainab']\n"
     ]
    }
   ],
   "source": [
    "print(students)"
   ]
  },
  {
   "cell_type": "code",
   "execution_count": 34,
   "metadata": {},
   "outputs": [
    {
     "name": "stdout",
     "output_type": "stream",
     "text": [
      "keep up the good work,keerthi\n",
      "keep up the good work,kernal\n",
      "keep up the good work,kiran\n",
      "keep up the good work,paul\n",
      "keep up the good work,reema\n",
      "keep up the good work,shabista\n",
      "keep up the good work,zain\n",
      "keep up the good work,zainab\n"
     ]
    }
   ],
   "source": [
    "for x in students:\n",
    "    print(f\"keep up the good work,{x}\")"
   ]
  },
  {
   "cell_type": "code",
   "execution_count": 29,
   "metadata": {},
   "outputs": [
    {
     "name": "stdout",
     "output_type": "stream",
     "text": [
      "keep up the good work,keerthi\n",
      "I am looking to received your practise file of today class as well,keerthi\n",
      "keep up the good work,kernal\n",
      "I am looking to received your practise file of today class as well,kernal\n",
      "keep up the good work,kiran\n",
      "I am looking to received your practise file of today class as well,kiran\n",
      "keep up the good work,paul\n",
      "I am looking to received your practise file of today class as well,paul\n",
      "keep up the good work,reema\n",
      "I am looking to received your practise file of today class as well,reema\n",
      "keep up the good work,shabista\n",
      "I am looking to received your practise file of today class as well,shabista\n",
      "keep up the good work,zain\n",
      "I am looking to received your practise file of today class as well,zain\n",
      "keep up the good work,zainab\n",
      "I am looking to received your practise file of today class as well,zainab\n"
     ]
    }
   ],
   "source": [
    "for x in students:\n",
    "    print(f\"keep up the good work,{x}\")\n",
    "    print(f\"I am looking to received your practise file of today class as well,{x}\")"
   ]
  },
  {
   "cell_type": "code",
   "execution_count": 30,
   "metadata": {},
   "outputs": [],
   "source": [
    "# its looking like paragrah ,to present in well manner use \\n"
   ]
  },
  {
   "cell_type": "code",
   "execution_count": 32,
   "metadata": {},
   "outputs": [
    {
     "name": "stdout",
     "output_type": "stream",
     "text": [
      "keep up the good work,keerthi\n",
      "I am looking to received your practise file of today class as well,keerthi\n",
      "\n",
      "keep up the good work,kernal\n",
      "I am looking to received your practise file of today class as well,kernal\n",
      "\n",
      "keep up the good work,kiran\n",
      "I am looking to received your practise file of today class as well,kiran\n",
      "\n",
      "keep up the good work,paul\n",
      "I am looking to received your practise file of today class as well,paul\n",
      "\n",
      "keep up the good work,reema\n",
      "I am looking to received your practise file of today class as well,reema\n",
      "\n",
      "keep up the good work,shabista\n",
      "I am looking to received your practise file of today class as well,shabista\n",
      "\n",
      "keep up the good work,zain\n",
      "I am looking to received your practise file of today class as well,zain\n",
      "\n",
      "keep up the good work,zainab\n",
      "I am looking to received your practise file of today class as well,zainab\n",
      "\n"
     ]
    }
   ],
   "source": [
    "for x in students:\n",
    "    print(f\"keep up the good work,{x}\")\n",
    "    print(f\"I am looking to received your practise file of today class as well,{x}\\n\")"
   ]
  },
  {
   "cell_type": "code",
   "execution_count": 36,
   "metadata": {},
   "outputs": [
    {
     "name": "stdout",
     "output_type": "stream",
     "text": [
      "keep up the good work,keerthi\n",
      "I am looking to received your practise file of today class as well,keerthi\n",
      "\n",
      "thank  you all of you for chossing the python session\n",
      "keep up the good work,kernal\n",
      "I am looking to received your practise file of today class as well,kernal\n",
      "\n",
      "thank  you all of you for chossing the python session\n",
      "keep up the good work,kiran\n",
      "I am looking to received your practise file of today class as well,kiran\n",
      "\n",
      "thank  you all of you for chossing the python session\n",
      "keep up the good work,paul\n",
      "I am looking to received your practise file of today class as well,paul\n",
      "\n",
      "thank  you all of you for chossing the python session\n",
      "keep up the good work,reema\n",
      "I am looking to received your practise file of today class as well,reema\n",
      "\n",
      "thank  you all of you for chossing the python session\n",
      "keep up the good work,shabista\n",
      "I am looking to received your practise file of today class as well,shabista\n",
      "\n",
      "thank  you all of you for chossing the python session\n",
      "keep up the good work,zain\n",
      "I am looking to received your practise file of today class as well,zain\n",
      "\n",
      "thank  you all of you for chossing the python session\n",
      "keep up the good work,zainab\n",
      "I am looking to received your practise file of today class as well,zainab\n",
      "\n",
      "thank  you all of you for chossing the python session\n"
     ]
    }
   ],
   "source": [
    "for x in students:\n",
    "    print(f\"keep up the good work,{x}\")\n",
    "    print(f\"I am looking to received your practise file of today class as well,{x}\\n\")\n",
    "    print(f\"thank  you all of you for chossing the python session\")"
   ]
  },
  {
   "cell_type": "code",
   "execution_count": 38,
   "metadata": {},
   "outputs": [
    {
     "name": "stdout",
     "output_type": "stream",
     "text": [
      "keep up the good work,keerthi\n",
      "I am looking to received your practise file of today class as well,keerthi\n",
      "\n",
      "thank  you all of you for chossing the python session,keerthi\n",
      "\n",
      "keep up the good work,kernal\n",
      "I am looking to received your practise file of today class as well,kernal\n",
      "\n",
      "thank  you all of you for chossing the python session,kernal\n",
      "\n",
      "keep up the good work,kiran\n",
      "I am looking to received your practise file of today class as well,kiran\n",
      "\n",
      "thank  you all of you for chossing the python session,kiran\n",
      "\n",
      "keep up the good work,paul\n",
      "I am looking to received your practise file of today class as well,paul\n",
      "\n",
      "thank  you all of you for chossing the python session,paul\n",
      "\n",
      "keep up the good work,reema\n",
      "I am looking to received your practise file of today class as well,reema\n",
      "\n",
      "thank  you all of you for chossing the python session,reema\n",
      "\n",
      "keep up the good work,shabista\n",
      "I am looking to received your practise file of today class as well,shabista\n",
      "\n",
      "thank  you all of you for chossing the python session,shabista\n",
      "\n",
      "keep up the good work,zain\n",
      "I am looking to received your practise file of today class as well,zain\n",
      "\n",
      "thank  you all of you for chossing the python session,zain\n",
      "\n",
      "keep up the good work,zainab\n",
      "I am looking to received your practise file of today class as well,zainab\n",
      "\n",
      "thank  you all of you for chossing the python session,zainab\n",
      "\n"
     ]
    }
   ],
   "source": [
    "for x in students:\n",
    "    print(f\"keep up the good work,{x}\")\n",
    "    print(f\"I am looking to received your practise file of today class as well,{x}\\n\")\n",
    "    print(f\"thank  you all of you for chossing the python session,{x}\\n\")"
   ]
  },
  {
   "cell_type": "code",
   "execution_count": null,
   "metadata": {},
   "outputs": [],
   "source": []
  },
  {
   "cell_type": "code",
   "execution_count": null,
   "metadata": {},
   "outputs": [],
   "source": []
  },
  {
   "cell_type": "code",
   "execution_count": null,
   "metadata": {},
   "outputs": [],
   "source": []
  },
  {
   "cell_type": "code",
   "execution_count": null,
   "metadata": {},
   "outputs": [],
   "source": []
  },
  {
   "cell_type": "code",
   "execution_count": null,
   "metadata": {},
   "outputs": [],
   "source": []
  },
  {
   "cell_type": "code",
   "execution_count": null,
   "metadata": {},
   "outputs": [],
   "source": []
  },
  {
   "cell_type": "code",
   "execution_count": null,
   "metadata": {},
   "outputs": [],
   "source": []
  },
  {
   "cell_type": "code",
   "execution_count": null,
   "metadata": {},
   "outputs": [],
   "source": []
  }
 ],
 "metadata": {
  "kernelspec": {
   "display_name": "Python 3",
   "language": "python",
   "name": "python3"
  },
  "language_info": {
   "codemirror_mode": {
    "name": "ipython",
    "version": 3
   },
   "file_extension": ".py",
   "mimetype": "text/x-python",
   "name": "python",
   "nbconvert_exporter": "python",
   "pygments_lexer": "ipython3",
   "version": "3.8.3"
  }
 },
 "nbformat": 4,
 "nbformat_minor": 4
}
